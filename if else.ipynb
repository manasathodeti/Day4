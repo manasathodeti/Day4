{
 "cells": [
  {
   "cell_type": "code",
   "execution_count": null,
   "id": "d3daa5c9-07e0-4c61-94b0-2612a500adc7",
   "metadata": {},
   "outputs": [],
   "source": [
    "a=int(input(\"Enter a:\"))\n",
    "b=int(input(\"Enter b:\"))\n",
    "if a>b:\n",
    "    print(\"Largest:\",a)\n",
    "elif a<b:\n",
    "    print(\"Largest:\",b)\n",
    "else:\n",
    "    print(\"Both numbers are equal\")"
   ]
  }
 ],
 "metadata": {
  "kernelspec": {
   "display_name": "Python 3 (ipykernel)",
   "language": "python",
   "name": "python3"
  },
  "language_info": {
   "codemirror_mode": {
    "name": "ipython",
    "version": 3
   },
   "file_extension": ".py",
   "mimetype": "text/x-python",
   "name": "python",
   "nbconvert_exporter": "python",
   "pygments_lexer": "ipython3",
   "version": "3.12.7"
  }
 },
 "nbformat": 4,
 "nbformat_minor": 5
}
