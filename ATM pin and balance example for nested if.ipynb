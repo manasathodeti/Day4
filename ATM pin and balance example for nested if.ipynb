{
 "cells": [
  {
   "cell_type": "code",
   "execution_count": null,
   "id": "9898840a-fcb9-4f0a-8d1f-f115d3961566",
   "metadata": {},
   "outputs": [],
   "source": [
    "pin=int(input(\"Enter your 4-digit pin number:\"))\n",
    "spin=2222\n",
    "balance=5000\n",
    "if pin==spin:\n",
    "    print(\"Access Granted!!\")\n",
    "    withdraw=int(input(\"Enter amount:\"))\n",
    "    if withdraw>balance:\n",
    "        print(\"Insufficent funds!!!!\")\n",
    "    else:\n",
    "        print(\"Amount withdraw:\",withdraw)\n",
    "        print(\"Remaining balance:\",balance-withdraw)\n",
    "        print(\"Thankyou for banking with ICICI....\")\n",
    "else:\n",
    "    print(\"Access denied....Wrong pin\")"
   ]
  }
 ],
 "metadata": {
  "kernelspec": {
   "display_name": "Python 3 (ipykernel)",
   "language": "python",
   "name": "python3"
  },
  "language_info": {
   "codemirror_mode": {
    "name": "ipython",
    "version": 3
   },
   "file_extension": ".py",
   "mimetype": "text/x-python",
   "name": "python",
   "nbconvert_exporter": "python",
   "pygments_lexer": "ipython3",
   "version": "3.12.7"
  }
 },
 "nbformat": 4,
 "nbformat_minor": 5
}
