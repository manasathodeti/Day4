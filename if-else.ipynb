{
 "cells": [
  {
   "cell_type": "code",
   "execution_count": null,
   "id": "fc4b2feb-56b6-48b5-8469-ff1c91c55de3",
   "metadata": {},
   "outputs": [],
   "source": [
    "#if-else statement for number determination of even or odd\n",
    "num=int(input(\"enter the number:\"))\n",
    "if num%2!=1: #num%2==0\n",
    "    print(num,\"is even\")\n",
    "else:\n",
    "    print(num,\"is odd\")"
   ]
  }
 ],
 "metadata": {
  "kernelspec": {
   "display_name": "Python 3 (ipykernel)",
   "language": "python",
   "name": "python3"
  },
  "language_info": {
   "codemirror_mode": {
    "name": "ipython",
    "version": 3
   },
   "file_extension": ".py",
   "mimetype": "text/x-python",
   "name": "python",
   "nbconvert_exporter": "python",
   "pygments_lexer": "ipython3",
   "version": "3.12.7"
  }
 },
 "nbformat": 4,
 "nbformat_minor": 5
}
