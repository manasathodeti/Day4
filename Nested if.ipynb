{
 "cells": [
  {
   "cell_type": "code",
   "execution_count": null,
   "id": "c41f2cf9-26f0-4a51-aae3-6d25496c256c",
   "metadata": {},
   "outputs": [],
   "source": [
    "#nested if for checking the number is both positive and even \n",
    "num=int(input(\"Enter the number:\"))\n",
    "if num>0:\n",
    "    print(\"Positive number\")\n",
    "    if num%2==0:\n",
    "        print(\"Even\")\n",
    "    else:\n",
    "        print(\"odd\")\n",
    "else:\n",
    "    print(\"Number is non-positive\")"
   ]
  }
 ],
 "metadata": {
  "kernelspec": {
   "display_name": "Python 3 (ipykernel)",
   "language": "python",
   "name": "python3"
  },
  "language_info": {
   "codemirror_mode": {
    "name": "ipython",
    "version": 3
   },
   "file_extension": ".py",
   "mimetype": "text/x-python",
   "name": "python",
   "nbconvert_exporter": "python",
   "pygments_lexer": "ipython3",
   "version": "3.12.7"
  }
 },
 "nbformat": 4,
 "nbformat_minor": 5
}
